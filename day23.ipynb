{
 "cells": [
  {
   "cell_type": "code",
   "execution_count": 3,
   "id": "0f83e22d-16b1-4670-9a9d-dbd92f69ea8b",
   "metadata": {},
   "outputs": [
    {
     "name": "stdout",
     "output_type": "stream",
     "text": [
      "Requirement already satisfied: mlxtend in c:\\users\\rudra\\anaconda3\\lib\\site-packages (0.23.4)\n",
      "Requirement already satisfied: scipy>=1.2.1 in c:\\users\\rudra\\anaconda3\\lib\\site-packages (from mlxtend) (1.13.1)\n",
      "Requirement already satisfied: numpy>=1.16.2 in c:\\users\\rudra\\anaconda3\\lib\\site-packages (from mlxtend) (1.26.4)\n",
      "Requirement already satisfied: pandas>=0.24.2 in c:\\users\\rudra\\anaconda3\\lib\\site-packages (from mlxtend) (2.2.2)\n",
      "Requirement already satisfied: scikit-learn>=1.3.1 in c:\\users\\rudra\\anaconda3\\lib\\site-packages (from mlxtend) (1.5.1)\n",
      "Requirement already satisfied: matplotlib>=3.0.0 in c:\\users\\rudra\\anaconda3\\lib\\site-packages (from mlxtend) (3.9.2)\n",
      "Requirement already satisfied: joblib>=0.13.2 in c:\\users\\rudra\\anaconda3\\lib\\site-packages (from mlxtend) (1.4.2)\n",
      "Requirement already satisfied: contourpy>=1.0.1 in c:\\users\\rudra\\anaconda3\\lib\\site-packages (from matplotlib>=3.0.0->mlxtend) (1.2.0)\n",
      "Requirement already satisfied: cycler>=0.10 in c:\\users\\rudra\\anaconda3\\lib\\site-packages (from matplotlib>=3.0.0->mlxtend) (0.11.0)\n",
      "Requirement already satisfied: fonttools>=4.22.0 in c:\\users\\rudra\\anaconda3\\lib\\site-packages (from matplotlib>=3.0.0->mlxtend) (4.51.0)\n",
      "Requirement already satisfied: kiwisolver>=1.3.1 in c:\\users\\rudra\\anaconda3\\lib\\site-packages (from matplotlib>=3.0.0->mlxtend) (1.4.4)\n",
      "Requirement already satisfied: packaging>=20.0 in c:\\users\\rudra\\anaconda3\\lib\\site-packages (from matplotlib>=3.0.0->mlxtend) (24.1)\n",
      "Requirement already satisfied: pillow>=8 in c:\\users\\rudra\\anaconda3\\lib\\site-packages (from matplotlib>=3.0.0->mlxtend) (10.4.0)\n",
      "Requirement already satisfied: pyparsing>=2.3.1 in c:\\users\\rudra\\anaconda3\\lib\\site-packages (from matplotlib>=3.0.0->mlxtend) (3.1.2)\n",
      "Requirement already satisfied: python-dateutil>=2.7 in c:\\users\\rudra\\anaconda3\\lib\\site-packages (from matplotlib>=3.0.0->mlxtend) (2.9.0.post0)\n",
      "Requirement already satisfied: pytz>=2020.1 in c:\\users\\rudra\\anaconda3\\lib\\site-packages (from pandas>=0.24.2->mlxtend) (2024.1)\n",
      "Requirement already satisfied: tzdata>=2022.7 in c:\\users\\rudra\\anaconda3\\lib\\site-packages (from pandas>=0.24.2->mlxtend) (2023.3)\n",
      "Requirement already satisfied: threadpoolctl>=3.1.0 in c:\\users\\rudra\\anaconda3\\lib\\site-packages (from scikit-learn>=1.3.1->mlxtend) (3.5.0)\n",
      "Requirement already satisfied: six>=1.5 in c:\\users\\rudra\\anaconda3\\lib\\site-packages (from python-dateutil>=2.7->matplotlib>=3.0.0->mlxtend) (1.16.0)\n"
     ]
    }
   ],
   "source": [
    "!pip install mlxtend"
   ]
  },
  {
   "cell_type": "markdown",
   "id": "3d25e472-f11f-47ce-ba98-ba631bf2372f",
   "metadata": {},
   "source": []
  },
  {
   "cell_type": "code",
   "execution_count": 5,
   "id": "7a893f28-c871-4a0d-930b-3c3b2a1b5f22",
   "metadata": {},
   "outputs": [],
   "source": [
    "import numpy as np\n",
    "import pandas as pd\n",
    "from mlxtend.frequent_patterns import apriori\n",
    "from mlxtend.frequent_patterns import association_rules\n",
    "import warnings\n",
    "warnings.filterwarnings('ignore')"
   ]
  },
  {
   "cell_type": "code",
   "execution_count": 6,
   "id": "c409a8cc-c77e-4b78-94ca-b6485f82e3be",
   "metadata": {},
   "outputs": [],
   "source": [
    "data=[\n",
    "['milk','bread','butter','jam'],\n",
    "['milk','cola','jam'],\n",
    "['bread','jam','butter'],\n",
    "['milk','diapers','bread','jam'],\n",
    "['milk','cola','beer'],\n",
    "['milk','bread','butter','beer'],\n",
    "]"
   ]
  },
  {
   "cell_type": "code",
   "execution_count": 7,
   "id": "441fdebd-31e9-4031-9946-cd542356deb2",
   "metadata": {},
   "outputs": [],
   "source": [
    "from mlxtend.preprocessing import TransactionEncoder"
   ]
  },
  {
   "cell_type": "code",
   "execution_count": 8,
   "id": "1c7bd63a-297d-44fc-b05f-52412bd5e707",
   "metadata": {},
   "outputs": [],
   "source": [
    "te=TransactionEncoder()\n",
    "df=te.fit(data).transform(data)\n"
   ]
  },
  {
   "cell_type": "code",
   "execution_count": 23,
   "id": "1f34e4a0-bc0e-41b4-ae3e-8da70c200fab",
   "metadata": {},
   "outputs": [
    {
     "data": {
      "text/html": [
       "<div>\n",
       "<style scoped>\n",
       "    .dataframe tbody tr th:only-of-type {\n",
       "        vertical-align: middle;\n",
       "    }\n",
       "\n",
       "    .dataframe tbody tr th {\n",
       "        vertical-align: top;\n",
       "    }\n",
       "\n",
       "    .dataframe thead th {\n",
       "        text-align: right;\n",
       "    }\n",
       "</style>\n",
       "<table border=\"1\" class=\"dataframe\">\n",
       "  <thead>\n",
       "    <tr style=\"text-align: right;\">\n",
       "      <th></th>\n",
       "      <th>Class</th>\n",
       "      <th>Gender</th>\n",
       "      <th>Age</th>\n",
       "      <th>Survived</th>\n",
       "    </tr>\n",
       "  </thead>\n",
       "  <tbody>\n",
       "    <tr>\n",
       "      <th>0</th>\n",
       "      <td>3rd</td>\n",
       "      <td>Male</td>\n",
       "      <td>Child</td>\n",
       "      <td>No</td>\n",
       "    </tr>\n",
       "    <tr>\n",
       "      <th>1</th>\n",
       "      <td>3rd</td>\n",
       "      <td>Male</td>\n",
       "      <td>Child</td>\n",
       "      <td>No</td>\n",
       "    </tr>\n",
       "    <tr>\n",
       "      <th>2</th>\n",
       "      <td>3rd</td>\n",
       "      <td>Male</td>\n",
       "      <td>Child</td>\n",
       "      <td>No</td>\n",
       "    </tr>\n",
       "    <tr>\n",
       "      <th>3</th>\n",
       "      <td>3rd</td>\n",
       "      <td>Male</td>\n",
       "      <td>Child</td>\n",
       "      <td>No</td>\n",
       "    </tr>\n",
       "    <tr>\n",
       "      <th>4</th>\n",
       "      <td>3rd</td>\n",
       "      <td>Male</td>\n",
       "      <td>Child</td>\n",
       "      <td>No</td>\n",
       "    </tr>\n",
       "  </tbody>\n",
       "</table>\n",
       "</div>"
      ],
      "text/plain": [
       "  Class Gender    Age Survived\n",
       "0   3rd   Male  Child       No\n",
       "1   3rd   Male  Child       No\n",
       "2   3rd   Male  Child       No\n",
       "3   3rd   Male  Child       No\n",
       "4   3rd   Male  Child       No"
      ]
     },
     "execution_count": 23,
     "metadata": {},
     "output_type": "execute_result"
    }
   ],
   "source": [
    "titanic =  pd.read_csv(r\"C:\\Users\\rudra\\LMS\\Titanic.csv\")\n",
    "titanic.head()\n"
   ]
  },
  {
   "cell_type": "code",
   "execution_count": 25,
   "id": "93cc6781-29d8-44cd-9247-228569372fae",
   "metadata": {},
   "outputs": [
    {
     "data": {
      "text/plain": [
       "array(['3rd', '1st', '2nd', 'Crew'], dtype=object)"
      ]
     },
     "execution_count": 25,
     "metadata": {},
     "output_type": "execute_result"
    }
   ],
   "source": [
    "titanic['Class'].unique()"
   ]
  },
  {
   "cell_type": "code",
   "execution_count": 27,
   "id": "ddbf92e3-1931-4b98-bb5d-19ba41bed0e0",
   "metadata": {},
   "outputs": [
    {
     "data": {
      "text/plain": [
       "Class\n",
       "Crew    885\n",
       "3rd     706\n",
       "1st     325\n",
       "2nd     285\n",
       "Name: count, dtype: int64"
      ]
     },
     "execution_count": 27,
     "metadata": {},
     "output_type": "execute_result"
    }
   ],
   "source": [
    "titanic['Class'].value_counts()"
   ]
  },
  {
   "cell_type": "code",
   "execution_count": 29,
   "id": "957de3c9-c717-4cc3-9adb-7498497c2768",
   "metadata": {},
   "outputs": [
    {
     "data": {
      "text/plain": [
       "array(['Male', 'Female'], dtype=object)"
      ]
     },
     "execution_count": 29,
     "metadata": {},
     "output_type": "execute_result"
    }
   ],
   "source": [
    "titanic['Gender'].unique()"
   ]
  },
  {
   "cell_type": "code",
   "execution_count": 31,
   "id": "a3f235e6-3e77-4e71-ba12-6f67dba80d29",
   "metadata": {},
   "outputs": [
    {
     "data": {
      "text/plain": [
       "Gender\n",
       "Male      1731\n",
       "Female     470\n",
       "Name: count, dtype: int64"
      ]
     },
     "execution_count": 31,
     "metadata": {},
     "output_type": "execute_result"
    }
   ],
   "source": [
    "titanic['Gender'].value_counts()"
   ]
  },
  {
   "cell_type": "code",
   "execution_count": 33,
   "id": "35eab315-80ac-4907-895a-425e35ed6948",
   "metadata": {},
   "outputs": [
    {
     "data": {
      "text/plain": [
       "array(['Child', 'Adult'], dtype=object)"
      ]
     },
     "execution_count": 33,
     "metadata": {},
     "output_type": "execute_result"
    }
   ],
   "source": [
    "titanic['Age'].unique()"
   ]
  },
  {
   "cell_type": "code",
   "execution_count": 35,
   "id": "86a325c2-ecca-4c3e-bc60-1f61a912fab3",
   "metadata": {},
   "outputs": [
    {
     "data": {
      "text/plain": [
       "Age\n",
       "Adult    2092\n",
       "Child     109\n",
       "Name: count, dtype: int64"
      ]
     },
     "execution_count": 35,
     "metadata": {},
     "output_type": "execute_result"
    }
   ],
   "source": [
    "titanic['Age'].value_counts()"
   ]
  },
  {
   "cell_type": "code",
   "execution_count": 37,
   "id": "71de4be3-af9f-4722-91f1-b6bbe325bd2f",
   "metadata": {},
   "outputs": [
    {
     "data": {
      "text/plain": [
       "array(['No', 'Yes'], dtype=object)"
      ]
     },
     "execution_count": 37,
     "metadata": {},
     "output_type": "execute_result"
    }
   ],
   "source": [
    "titanic['Survived'].unique()"
   ]
  },
  {
   "cell_type": "code",
   "execution_count": 39,
   "id": "6d02aaea-3f99-4983-a915-0f0e720b6792",
   "metadata": {},
   "outputs": [
    {
     "data": {
      "text/plain": [
       "Survived\n",
       "No     1490\n",
       "Yes     711\n",
       "Name: count, dtype: int64"
      ]
     },
     "execution_count": 39,
     "metadata": {},
     "output_type": "execute_result"
    }
   ],
   "source": [
    "titanic['Survived'].value_counts()"
   ]
  },
  {
   "cell_type": "markdown",
   "id": "99c93185-e293-4134-96eb-7d52aa3c0f29",
   "metadata": {},
   "source": [
    "# pre-processing"
   ]
  },
  {
   "cell_type": "code",
   "execution_count": 42,
   "id": "c5886075-b7dd-44db-add7-414ac75e91f2",
   "metadata": {},
   "outputs": [
    {
     "data": {
      "text/html": [
       "<div>\n",
       "<style scoped>\n",
       "    .dataframe tbody tr th:only-of-type {\n",
       "        vertical-align: middle;\n",
       "    }\n",
       "\n",
       "    .dataframe tbody tr th {\n",
       "        vertical-align: top;\n",
       "    }\n",
       "\n",
       "    .dataframe thead th {\n",
       "        text-align: right;\n",
       "    }\n",
       "</style>\n",
       "<table border=\"1\" class=\"dataframe\">\n",
       "  <thead>\n",
       "    <tr style=\"text-align: right;\">\n",
       "      <th></th>\n",
       "      <th>Class_1st</th>\n",
       "      <th>Class_2nd</th>\n",
       "      <th>Class_3rd</th>\n",
       "      <th>Class_Crew</th>\n",
       "      <th>Gender_Female</th>\n",
       "      <th>Gender_Male</th>\n",
       "      <th>Age_Adult</th>\n",
       "      <th>Age_Child</th>\n",
       "      <th>Survived_No</th>\n",
       "      <th>Survived_Yes</th>\n",
       "    </tr>\n",
       "  </thead>\n",
       "  <tbody>\n",
       "    <tr>\n",
       "      <th>0</th>\n",
       "      <td>0</td>\n",
       "      <td>0</td>\n",
       "      <td>1</td>\n",
       "      <td>0</td>\n",
       "      <td>0</td>\n",
       "      <td>1</td>\n",
       "      <td>0</td>\n",
       "      <td>1</td>\n",
       "      <td>1</td>\n",
       "      <td>0</td>\n",
       "    </tr>\n",
       "    <tr>\n",
       "      <th>1</th>\n",
       "      <td>0</td>\n",
       "      <td>0</td>\n",
       "      <td>1</td>\n",
       "      <td>0</td>\n",
       "      <td>0</td>\n",
       "      <td>1</td>\n",
       "      <td>0</td>\n",
       "      <td>1</td>\n",
       "      <td>1</td>\n",
       "      <td>0</td>\n",
       "    </tr>\n",
       "    <tr>\n",
       "      <th>2</th>\n",
       "      <td>0</td>\n",
       "      <td>0</td>\n",
       "      <td>1</td>\n",
       "      <td>0</td>\n",
       "      <td>0</td>\n",
       "      <td>1</td>\n",
       "      <td>0</td>\n",
       "      <td>1</td>\n",
       "      <td>1</td>\n",
       "      <td>0</td>\n",
       "    </tr>\n",
       "    <tr>\n",
       "      <th>3</th>\n",
       "      <td>0</td>\n",
       "      <td>0</td>\n",
       "      <td>1</td>\n",
       "      <td>0</td>\n",
       "      <td>0</td>\n",
       "      <td>1</td>\n",
       "      <td>0</td>\n",
       "      <td>1</td>\n",
       "      <td>1</td>\n",
       "      <td>0</td>\n",
       "    </tr>\n",
       "    <tr>\n",
       "      <th>4</th>\n",
       "      <td>0</td>\n",
       "      <td>0</td>\n",
       "      <td>1</td>\n",
       "      <td>0</td>\n",
       "      <td>0</td>\n",
       "      <td>1</td>\n",
       "      <td>0</td>\n",
       "      <td>1</td>\n",
       "      <td>1</td>\n",
       "      <td>0</td>\n",
       "    </tr>\n",
       "  </tbody>\n",
       "</table>\n",
       "</div>"
      ],
      "text/plain": [
       "   Class_1st  Class_2nd  Class_3rd  Class_Crew  Gender_Female  Gender_Male  \\\n",
       "0          0          0          1           0              0            1   \n",
       "1          0          0          1           0              0            1   \n",
       "2          0          0          1           0              0            1   \n",
       "3          0          0          1           0              0            1   \n",
       "4          0          0          1           0              0            1   \n",
       "\n",
       "   Age_Adult  Age_Child  Survived_No  Survived_Yes  \n",
       "0          0          1            1             0  \n",
       "1          0          1            1             0  \n",
       "2          0          1            1             0  \n",
       "3          0          1            1             0  \n",
       "4          0          1            1             0  "
      ]
     },
     "execution_count": 42,
     "metadata": {},
     "output_type": "execute_result"
    }
   ],
   "source": [
    "df=pd.get_dummies(titanic,dtype='int')\n",
    "df.head()\n"
   ]
  },
  {
   "cell_type": "markdown",
   "id": "5cc48c9f-bb0d-48f1-93ab-0af7640278c8",
   "metadata": {},
   "source": [
    "# Apriori Algorithm"
   ]
  },
  {
   "cell_type": "code",
   "execution_count": 45,
   "id": "ec4f3dea-4404-4c6c-b0fe-909e993fb14d",
   "metadata": {},
   "outputs": [
    {
     "data": {
      "text/plain": [
       "2201"
      ]
     },
     "execution_count": 45,
     "metadata": {},
     "output_type": "execute_result"
    }
   ],
   "source": [
    "titanic.shape[0]"
   ]
  },
  {
   "cell_type": "code",
   "execution_count": 47,
   "id": "7aa33b28-a19a-42fd-b802-5885664d2127",
   "metadata": {},
   "outputs": [
    {
     "data": {
      "text/html": [
       "<div>\n",
       "<style scoped>\n",
       "    .dataframe tbody tr th:only-of-type {\n",
       "        vertical-align: middle;\n",
       "    }\n",
       "\n",
       "    .dataframe tbody tr th {\n",
       "        vertical-align: top;\n",
       "    }\n",
       "\n",
       "    .dataframe thead th {\n",
       "        text-align: right;\n",
       "    }\n",
       "</style>\n",
       "<table border=\"1\" class=\"dataframe\">\n",
       "  <thead>\n",
       "    <tr style=\"text-align: right;\">\n",
       "      <th></th>\n",
       "      <th>support</th>\n",
       "      <th>itemsets</th>\n",
       "    </tr>\n",
       "  </thead>\n",
       "  <tbody>\n",
       "    <tr>\n",
       "      <th>0</th>\n",
       "      <td>0.786461</td>\n",
       "      <td>(Gender_Male)</td>\n",
       "    </tr>\n",
       "    <tr>\n",
       "      <th>1</th>\n",
       "      <td>0.950477</td>\n",
       "      <td>(Age_Adult)</td>\n",
       "    </tr>\n",
       "    <tr>\n",
       "      <th>2</th>\n",
       "      <td>0.676965</td>\n",
       "      <td>(Survived_No)</td>\n",
       "    </tr>\n",
       "    <tr>\n",
       "      <th>3</th>\n",
       "      <td>0.757383</td>\n",
       "      <td>(Age_Adult, Gender_Male)</td>\n",
       "    </tr>\n",
       "    <tr>\n",
       "      <th>4</th>\n",
       "      <td>0.619718</td>\n",
       "      <td>(Survived_No, Gender_Male)</td>\n",
       "    </tr>\n",
       "    <tr>\n",
       "      <th>5</th>\n",
       "      <td>0.653339</td>\n",
       "      <td>(Survived_No, Age_Adult)</td>\n",
       "    </tr>\n",
       "    <tr>\n",
       "      <th>6</th>\n",
       "      <td>0.603816</td>\n",
       "      <td>(Survived_No, Age_Adult, Gender_Male)</td>\n",
       "    </tr>\n",
       "  </tbody>\n",
       "</table>\n",
       "</div>"
      ],
      "text/plain": [
       "    support                               itemsets\n",
       "0  0.786461                          (Gender_Male)\n",
       "1  0.950477                            (Age_Adult)\n",
       "2  0.676965                          (Survived_No)\n",
       "3  0.757383               (Age_Adult, Gender_Male)\n",
       "4  0.619718             (Survived_No, Gender_Male)\n",
       "5  0.653339               (Survived_No, Age_Adult)\n",
       "6  0.603816  (Survived_No, Age_Adult, Gender_Male)"
      ]
     },
     "execution_count": 47,
     "metadata": {},
     "output_type": "execute_result"
    }
   ],
   "source": [
    "frequent_itemsets = apriori(df,min_support=0.5, use_colnames=True)\n",
    "frequent_itemsets\n"
   ]
  },
  {
   "cell_type": "code",
   "execution_count": 49,
   "id": "79e91981-a66c-4902-8a50-c0f8c744e141",
   "metadata": {},
   "outputs": [
    {
     "data": {
      "text/html": [
       "<div>\n",
       "<style scoped>\n",
       "    .dataframe tbody tr th:only-of-type {\n",
       "        vertical-align: middle;\n",
       "    }\n",
       "\n",
       "    .dataframe tbody tr th {\n",
       "        vertical-align: top;\n",
       "    }\n",
       "\n",
       "    .dataframe thead th {\n",
       "        text-align: right;\n",
       "    }\n",
       "</style>\n",
       "<table border=\"1\" class=\"dataframe\">\n",
       "  <thead>\n",
       "    <tr style=\"text-align: right;\">\n",
       "      <th></th>\n",
       "      <th>antecedents</th>\n",
       "      <th>consequents</th>\n",
       "      <th>antecedent support</th>\n",
       "      <th>consequent support</th>\n",
       "      <th>support</th>\n",
       "      <th>confidence</th>\n",
       "      <th>lift</th>\n",
       "      <th>representativity</th>\n",
       "      <th>leverage</th>\n",
       "      <th>conviction</th>\n",
       "      <th>zhangs_metric</th>\n",
       "      <th>jaccard</th>\n",
       "      <th>certainty</th>\n",
       "      <th>kulczynski</th>\n",
       "    </tr>\n",
       "  </thead>\n",
       "  <tbody>\n",
       "    <tr>\n",
       "      <th>0</th>\n",
       "      <td>(Age_Adult)</td>\n",
       "      <td>(Gender_Male)</td>\n",
       "      <td>0.950477</td>\n",
       "      <td>0.786461</td>\n",
       "      <td>0.757383</td>\n",
       "      <td>0.796845</td>\n",
       "      <td>1.013204</td>\n",
       "      <td>1.0</td>\n",
       "      <td>0.009870</td>\n",
       "      <td>1.051116</td>\n",
       "      <td>0.263149</td>\n",
       "      <td>0.773191</td>\n",
       "      <td>0.048630</td>\n",
       "      <td>0.879936</td>\n",
       "    </tr>\n",
       "    <tr>\n",
       "      <th>1</th>\n",
       "      <td>(Gender_Male)</td>\n",
       "      <td>(Age_Adult)</td>\n",
       "      <td>0.786461</td>\n",
       "      <td>0.950477</td>\n",
       "      <td>0.757383</td>\n",
       "      <td>0.963027</td>\n",
       "      <td>1.013204</td>\n",
       "      <td>1.0</td>\n",
       "      <td>0.009870</td>\n",
       "      <td>1.339441</td>\n",
       "      <td>0.061028</td>\n",
       "      <td>0.773191</td>\n",
       "      <td>0.253420</td>\n",
       "      <td>0.879936</td>\n",
       "    </tr>\n",
       "    <tr>\n",
       "      <th>2</th>\n",
       "      <td>(Survived_No)</td>\n",
       "      <td>(Gender_Male)</td>\n",
       "      <td>0.676965</td>\n",
       "      <td>0.786461</td>\n",
       "      <td>0.619718</td>\n",
       "      <td>0.915436</td>\n",
       "      <td>1.163995</td>\n",
       "      <td>1.0</td>\n",
       "      <td>0.087312</td>\n",
       "      <td>2.525187</td>\n",
       "      <td>0.436144</td>\n",
       "      <td>0.734518</td>\n",
       "      <td>0.603990</td>\n",
       "      <td>0.851710</td>\n",
       "    </tr>\n",
       "    <tr>\n",
       "      <th>3</th>\n",
       "      <td>(Gender_Male)</td>\n",
       "      <td>(Survived_No)</td>\n",
       "      <td>0.786461</td>\n",
       "      <td>0.676965</td>\n",
       "      <td>0.619718</td>\n",
       "      <td>0.787984</td>\n",
       "      <td>1.163995</td>\n",
       "      <td>1.0</td>\n",
       "      <td>0.087312</td>\n",
       "      <td>1.523634</td>\n",
       "      <td>0.659783</td>\n",
       "      <td>0.734518</td>\n",
       "      <td>0.343674</td>\n",
       "      <td>0.851710</td>\n",
       "    </tr>\n",
       "    <tr>\n",
       "      <th>4</th>\n",
       "      <td>(Survived_No)</td>\n",
       "      <td>(Age_Adult)</td>\n",
       "      <td>0.676965</td>\n",
       "      <td>0.950477</td>\n",
       "      <td>0.653339</td>\n",
       "      <td>0.965101</td>\n",
       "      <td>1.015386</td>\n",
       "      <td>1.0</td>\n",
       "      <td>0.009900</td>\n",
       "      <td>1.419023</td>\n",
       "      <td>0.046906</td>\n",
       "      <td>0.670709</td>\n",
       "      <td>0.295290</td>\n",
       "      <td>0.826241</td>\n",
       "    </tr>\n",
       "    <tr>\n",
       "      <th>5</th>\n",
       "      <td>(Age_Adult)</td>\n",
       "      <td>(Survived_No)</td>\n",
       "      <td>0.950477</td>\n",
       "      <td>0.676965</td>\n",
       "      <td>0.653339</td>\n",
       "      <td>0.687380</td>\n",
       "      <td>1.015386</td>\n",
       "      <td>1.0</td>\n",
       "      <td>0.009900</td>\n",
       "      <td>1.033317</td>\n",
       "      <td>0.305968</td>\n",
       "      <td>0.670709</td>\n",
       "      <td>0.032243</td>\n",
       "      <td>0.826241</td>\n",
       "    </tr>\n",
       "    <tr>\n",
       "      <th>6</th>\n",
       "      <td>(Survived_No, Age_Adult)</td>\n",
       "      <td>(Gender_Male)</td>\n",
       "      <td>0.653339</td>\n",
       "      <td>0.786461</td>\n",
       "      <td>0.603816</td>\n",
       "      <td>0.924200</td>\n",
       "      <td>1.175139</td>\n",
       "      <td>1.0</td>\n",
       "      <td>0.089991</td>\n",
       "      <td>2.817152</td>\n",
       "      <td>0.429921</td>\n",
       "      <td>0.722283</td>\n",
       "      <td>0.645032</td>\n",
       "      <td>0.845982</td>\n",
       "    </tr>\n",
       "    <tr>\n",
       "      <th>7</th>\n",
       "      <td>(Survived_No, Gender_Male)</td>\n",
       "      <td>(Age_Adult)</td>\n",
       "      <td>0.619718</td>\n",
       "      <td>0.950477</td>\n",
       "      <td>0.603816</td>\n",
       "      <td>0.974340</td>\n",
       "      <td>1.025106</td>\n",
       "      <td>1.0</td>\n",
       "      <td>0.014788</td>\n",
       "      <td>1.929980</td>\n",
       "      <td>0.064404</td>\n",
       "      <td>0.624824</td>\n",
       "      <td>0.481860</td>\n",
       "      <td>0.804809</td>\n",
       "    </tr>\n",
       "    <tr>\n",
       "      <th>8</th>\n",
       "      <td>(Age_Adult, Gender_Male)</td>\n",
       "      <td>(Survived_No)</td>\n",
       "      <td>0.757383</td>\n",
       "      <td>0.676965</td>\n",
       "      <td>0.603816</td>\n",
       "      <td>0.797241</td>\n",
       "      <td>1.177669</td>\n",
       "      <td>1.0</td>\n",
       "      <td>0.091095</td>\n",
       "      <td>1.593193</td>\n",
       "      <td>0.621823</td>\n",
       "      <td>0.727024</td>\n",
       "      <td>0.372330</td>\n",
       "      <td>0.844593</td>\n",
       "    </tr>\n",
       "    <tr>\n",
       "      <th>9</th>\n",
       "      <td>(Survived_No)</td>\n",
       "      <td>(Age_Adult, Gender_Male)</td>\n",
       "      <td>0.676965</td>\n",
       "      <td>0.757383</td>\n",
       "      <td>0.603816</td>\n",
       "      <td>0.891946</td>\n",
       "      <td>1.177669</td>\n",
       "      <td>1.0</td>\n",
       "      <td>0.091095</td>\n",
       "      <td>2.245337</td>\n",
       "      <td>0.467023</td>\n",
       "      <td>0.727024</td>\n",
       "      <td>0.554633</td>\n",
       "      <td>0.844593</td>\n",
       "    </tr>\n",
       "    <tr>\n",
       "      <th>10</th>\n",
       "      <td>(Age_Adult)</td>\n",
       "      <td>(Survived_No, Gender_Male)</td>\n",
       "      <td>0.950477</td>\n",
       "      <td>0.619718</td>\n",
       "      <td>0.603816</td>\n",
       "      <td>0.635277</td>\n",
       "      <td>1.025106</td>\n",
       "      <td>1.0</td>\n",
       "      <td>0.014788</td>\n",
       "      <td>1.042660</td>\n",
       "      <td>0.494550</td>\n",
       "      <td>0.624824</td>\n",
       "      <td>0.040914</td>\n",
       "      <td>0.804809</td>\n",
       "    </tr>\n",
       "    <tr>\n",
       "      <th>11</th>\n",
       "      <td>(Gender_Male)</td>\n",
       "      <td>(Survived_No, Age_Adult)</td>\n",
       "      <td>0.786461</td>\n",
       "      <td>0.653339</td>\n",
       "      <td>0.603816</td>\n",
       "      <td>0.767764</td>\n",
       "      <td>1.175139</td>\n",
       "      <td>1.0</td>\n",
       "      <td>0.089991</td>\n",
       "      <td>1.492710</td>\n",
       "      <td>0.697935</td>\n",
       "      <td>0.722283</td>\n",
       "      <td>0.330078</td>\n",
       "      <td>0.845982</td>\n",
       "    </tr>\n",
       "  </tbody>\n",
       "</table>\n",
       "</div>"
      ],
      "text/plain": [
       "                   antecedents                 consequents  \\\n",
       "0                  (Age_Adult)               (Gender_Male)   \n",
       "1                (Gender_Male)                 (Age_Adult)   \n",
       "2                (Survived_No)               (Gender_Male)   \n",
       "3                (Gender_Male)               (Survived_No)   \n",
       "4                (Survived_No)                 (Age_Adult)   \n",
       "5                  (Age_Adult)               (Survived_No)   \n",
       "6     (Survived_No, Age_Adult)               (Gender_Male)   \n",
       "7   (Survived_No, Gender_Male)                 (Age_Adult)   \n",
       "8     (Age_Adult, Gender_Male)               (Survived_No)   \n",
       "9                (Survived_No)    (Age_Adult, Gender_Male)   \n",
       "10                 (Age_Adult)  (Survived_No, Gender_Male)   \n",
       "11               (Gender_Male)    (Survived_No, Age_Adult)   \n",
       "\n",
       "    antecedent support  consequent support   support  confidence      lift  \\\n",
       "0             0.950477            0.786461  0.757383    0.796845  1.013204   \n",
       "1             0.786461            0.950477  0.757383    0.963027  1.013204   \n",
       "2             0.676965            0.786461  0.619718    0.915436  1.163995   \n",
       "3             0.786461            0.676965  0.619718    0.787984  1.163995   \n",
       "4             0.676965            0.950477  0.653339    0.965101  1.015386   \n",
       "5             0.950477            0.676965  0.653339    0.687380  1.015386   \n",
       "6             0.653339            0.786461  0.603816    0.924200  1.175139   \n",
       "7             0.619718            0.950477  0.603816    0.974340  1.025106   \n",
       "8             0.757383            0.676965  0.603816    0.797241  1.177669   \n",
       "9             0.676965            0.757383  0.603816    0.891946  1.177669   \n",
       "10            0.950477            0.619718  0.603816    0.635277  1.025106   \n",
       "11            0.786461            0.653339  0.603816    0.767764  1.175139   \n",
       "\n",
       "    representativity  leverage  conviction  zhangs_metric   jaccard  \\\n",
       "0                1.0  0.009870    1.051116       0.263149  0.773191   \n",
       "1                1.0  0.009870    1.339441       0.061028  0.773191   \n",
       "2                1.0  0.087312    2.525187       0.436144  0.734518   \n",
       "3                1.0  0.087312    1.523634       0.659783  0.734518   \n",
       "4                1.0  0.009900    1.419023       0.046906  0.670709   \n",
       "5                1.0  0.009900    1.033317       0.305968  0.670709   \n",
       "6                1.0  0.089991    2.817152       0.429921  0.722283   \n",
       "7                1.0  0.014788    1.929980       0.064404  0.624824   \n",
       "8                1.0  0.091095    1.593193       0.621823  0.727024   \n",
       "9                1.0  0.091095    2.245337       0.467023  0.727024   \n",
       "10               1.0  0.014788    1.042660       0.494550  0.624824   \n",
       "11               1.0  0.089991    1.492710       0.697935  0.722283   \n",
       "\n",
       "    certainty  kulczynski  \n",
       "0    0.048630    0.879936  \n",
       "1    0.253420    0.879936  \n",
       "2    0.603990    0.851710  \n",
       "3    0.343674    0.851710  \n",
       "4    0.295290    0.826241  \n",
       "5    0.032243    0.826241  \n",
       "6    0.645032    0.845982  \n",
       "7    0.481860    0.804809  \n",
       "8    0.372330    0.844593  \n",
       "9    0.554633    0.844593  \n",
       "10   0.040914    0.804809  \n",
       "11   0.330078    0.845982  "
      ]
     },
     "execution_count": 49,
     "metadata": {},
     "output_type": "execute_result"
    }
   ],
   "source": [
    "rules = association_rules(frequent_itemsets,metric=\"lift\",min_threshold=1,num_itemsets=len(frequent_itemsets))\n",
    "rules\n"
   ]
  },
  {
   "cell_type": "code",
   "execution_count": null,
   "id": "12a075df-bbe4-4ec5-8f96-20803e844ff8",
   "metadata": {},
   "outputs": [],
   "source": []
  },
  {
   "cell_type": "code",
   "execution_count": null,
   "id": "3a6b85d1-4246-45f8-b88d-e43201923cd8",
   "metadata": {},
   "outputs": [],
   "source": []
  },
  {
   "cell_type": "code",
   "execution_count": null,
   "id": "858c2abe-996b-439b-a58c-c714737d8ba6",
   "metadata": {},
   "outputs": [],
   "source": []
  }
 ],
 "metadata": {
  "kernelspec": {
   "display_name": "Python [conda env:base] *",
   "language": "python",
   "name": "conda-base-py"
  },
  "language_info": {
   "codemirror_mode": {
    "name": "ipython",
    "version": 3
   },
   "file_extension": ".py",
   "mimetype": "text/x-python",
   "name": "python",
   "nbconvert_exporter": "python",
   "pygments_lexer": "ipython3",
   "version": "3.12.7"
  }
 },
 "nbformat": 4,
 "nbformat_minor": 5
}
