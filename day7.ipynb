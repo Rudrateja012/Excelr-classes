{
 "cells": [
  {
   "cell_type": "code",
   "execution_count": 1,
   "id": "153b4b93-c0f6-4fba-9957-54a044707d61",
   "metadata": {},
   "outputs": [],
   "source": [
    "import numpy as np"
   ]
  },
  {
   "cell_type": "code",
   "execution_count": 42,
   "id": "6b27d130-e59d-4292-9c88-1c8306636a38",
   "metadata": {},
   "outputs": [],
   "source": [
    "j=[4,6,2,3,8,9]"
   ]
  },
  {
   "cell_type": "code",
   "execution_count": 43,
   "id": "3a074af0-ea4a-40e7-9f8b-b898d59a7f13",
   "metadata": {},
   "outputs": [],
   "source": [
    "d=np.array(j)"
   ]
  },
  {
   "cell_type": "code",
   "execution_count": 44,
   "id": "dbd3b2f6-5d59-44a0-9362-1b05be082b30",
   "metadata": {},
   "outputs": [
    {
     "data": {
      "text/plain": [
       "list"
      ]
     },
     "execution_count": 44,
     "metadata": {},
     "output_type": "execute_result"
    }
   ],
   "source": [
    "type(j)"
   ]
  },
  {
   "cell_type": "code",
   "execution_count": 45,
   "id": "09f1df6e-a1b9-48ca-9c72-4cca763151c4",
   "metadata": {},
   "outputs": [
    {
     "data": {
      "text/plain": [
       "[4, 6, 2, 3, 8, 9]"
      ]
     },
     "execution_count": 45,
     "metadata": {},
     "output_type": "execute_result"
    }
   ],
   "source": [
    "j"
   ]
  },
  {
   "cell_type": "code",
   "execution_count": 46,
   "id": "69d2c8bc-f739-484b-8587-79e66f97b355",
   "metadata": {},
   "outputs": [
    {
     "data": {
      "text/plain": [
       "array([4, 6, 2, 3, 8, 9])"
      ]
     },
     "execution_count": 46,
     "metadata": {},
     "output_type": "execute_result"
    }
   ],
   "source": [
    "d"
   ]
  },
  {
   "cell_type": "code",
   "execution_count": 47,
   "id": "7771980a-e6d1-4707-8865-13b399ade613",
   "metadata": {},
   "outputs": [
    {
     "data": {
      "text/plain": [
       "numpy.ndarray"
      ]
     },
     "execution_count": 47,
     "metadata": {},
     "output_type": "execute_result"
    }
   ],
   "source": [
    "type(d)"
   ]
  },
  {
   "cell_type": "code",
   "execution_count": 48,
   "id": "fa495210-e68f-4dd8-b832-305329b1cca3",
   "metadata": {},
   "outputs": [
    {
     "data": {
      "text/plain": [
       "(4, 6, 2, 3, 8, 9)"
      ]
     },
     "execution_count": 48,
     "metadata": {},
     "output_type": "execute_result"
    }
   ],
   "source": [
    "tuple(j)"
   ]
  },
  {
   "cell_type": "code",
   "execution_count": 49,
   "id": "f072e3fc-6664-4021-abd1-68894614f661",
   "metadata": {},
   "outputs": [
    {
     "data": {
      "text/plain": [
       "[4, 6, 2, 3, 8, 9]"
      ]
     },
     "execution_count": 49,
     "metadata": {},
     "output_type": "execute_result"
    }
   ],
   "source": [
    "j"
   ]
  },
  {
   "cell_type": "code",
   "execution_count": 50,
   "id": "caf750d2-7906-48be-940e-20b90d12c00a",
   "metadata": {},
   "outputs": [
    {
     "data": {
      "text/plain": [
       "(6,)"
      ]
     },
     "execution_count": 50,
     "metadata": {},
     "output_type": "execute_result"
    }
   ],
   "source": [
    "d.shape"
   ]
  },
  {
   "cell_type": "code",
   "execution_count": 51,
   "id": "85486a46-2ec2-483a-8ad2-6ce9faf5961b",
   "metadata": {},
   "outputs": [
    {
     "data": {
      "text/plain": [
       "1"
      ]
     },
     "execution_count": 51,
     "metadata": {},
     "output_type": "execute_result"
    }
   ],
   "source": [
    "d.ndim"
   ]
  },
  {
   "cell_type": "code",
   "execution_count": 52,
   "id": "55865006-4824-43d4-aeaa-8398a2501372",
   "metadata": {},
   "outputs": [
    {
     "data": {
      "text/plain": [
       "[[4, 8, 90, 12],\n",
       " [56, 7, 54, 20],\n",
       " [67, 89, 50, 49],\n",
       " [77, 88, 22, 55],\n",
       " [90, 40, 70, 60]]"
      ]
     },
     "execution_count": 52,
     "metadata": {},
     "output_type": "execute_result"
    }
   ],
   "source": [
    "s=[[4,8,90,12],[56,7,54,20],[67,89,50,49],[77,88,22,55],[90,40,70,60]]\n",
    "s"
   ]
  },
  {
   "cell_type": "code",
   "execution_count": 53,
   "id": "8bd6d370-caf7-4d5c-a766-68bae55fb001",
   "metadata": {},
   "outputs": [
    {
     "data": {
      "text/plain": [
       "list"
      ]
     },
     "execution_count": 53,
     "metadata": {},
     "output_type": "execute_result"
    }
   ],
   "source": [
    "type(s)"
   ]
  },
  {
   "cell_type": "code",
   "execution_count": 54,
   "id": "1a8d19f4-4abb-49ce-a206-e76c465bac68",
   "metadata": {},
   "outputs": [],
   "source": [
    "arr1=np.array(s)"
   ]
  },
  {
   "cell_type": "code",
   "execution_count": 55,
   "id": "5aca99a5-9bb1-46c7-bf14-366d3acb71f6",
   "metadata": {},
   "outputs": [
    {
     "data": {
      "text/plain": [
       "array([[ 4,  8, 90, 12],\n",
       "       [56,  7, 54, 20],\n",
       "       [67, 89, 50, 49],\n",
       "       [77, 88, 22, 55],\n",
       "       [90, 40, 70, 60]])"
      ]
     },
     "execution_count": 55,
     "metadata": {},
     "output_type": "execute_result"
    }
   ],
   "source": [
    "arr1"
   ]
  },
  {
   "cell_type": "code",
   "execution_count": 56,
   "id": "e164cf80-9637-4d23-9906-2378bfe2a264",
   "metadata": {},
   "outputs": [
    {
     "data": {
      "text/plain": [
       "(5, 4)"
      ]
     },
     "execution_count": 56,
     "metadata": {},
     "output_type": "execute_result"
    }
   ],
   "source": [
    "arr1.shape"
   ]
  },
  {
   "cell_type": "code",
   "execution_count": 57,
   "id": "2f69ad16-5ef1-4d88-92a1-3a2ced3fa336",
   "metadata": {},
   "outputs": [
    {
     "data": {
      "text/plain": [
       "20"
      ]
     },
     "execution_count": 57,
     "metadata": {},
     "output_type": "execute_result"
    }
   ],
   "source": [
    "arr1.size"
   ]
  },
  {
   "cell_type": "code",
   "execution_count": 58,
   "id": "569c939d-04ac-4a46-bb4c-5113e9fb334b",
   "metadata": {},
   "outputs": [
    {
     "data": {
      "text/plain": [
       "2"
      ]
     },
     "execution_count": 58,
     "metadata": {},
     "output_type": "execute_result"
    }
   ],
   "source": [
    "arr1.ndim"
   ]
  },
  {
   "cell_type": "code",
   "execution_count": 69,
   "id": "255493ef-34af-4a0b-a8fa-68d6d0d167b0",
   "metadata": {},
   "outputs": [
    {
     "data": {
      "text/plain": [
       "array([[4, 6],\n",
       "       [2, 3],\n",
       "       [8, 9]])"
      ]
     },
     "execution_count": 69,
     "metadata": {},
     "output_type": "execute_result"
    }
   ],
   "source": [
    "h=d.reshape(3,2)\n",
    "h"
   ]
  },
  {
   "cell_type": "code",
   "execution_count": 62,
   "id": "6bf9e616-56ad-4682-b6db-68578d67fc6a",
   "metadata": {},
   "outputs": [
    {
     "data": {
      "text/plain": [
       "array([[4],\n",
       "       [6],\n",
       "       [2],\n",
       "       [3],\n",
       "       [8],\n",
       "       [9]])"
      ]
     },
     "execution_count": 62,
     "metadata": {},
     "output_type": "execute_result"
    }
   ],
   "source": [
    "d.reshape(6,1)"
   ]
  },
  {
   "cell_type": "code",
   "execution_count": 63,
   "id": "8ae65b16-f4c5-41b3-b371-be2a62f1f9fb",
   "metadata": {},
   "outputs": [
    {
     "data": {
      "text/plain": [
       "6"
      ]
     },
     "execution_count": 63,
     "metadata": {},
     "output_type": "execute_result"
    }
   ],
   "source": [
    "h.size"
   ]
  },
  {
   "cell_type": "code",
   "execution_count": 64,
   "id": "6d810225-4121-4bb5-9a19-7de0f7263847",
   "metadata": {},
   "outputs": [
    {
     "data": {
      "text/plain": [
       "2"
      ]
     },
     "execution_count": 64,
     "metadata": {},
     "output_type": "execute_result"
    }
   ],
   "source": [
    "h.ndim\n"
   ]
  },
  {
   "cell_type": "code",
   "execution_count": 65,
   "id": "4e97db6c-24b4-4672-8bbd-d002db72d9f7",
   "metadata": {},
   "outputs": [
    {
     "data": {
      "text/plain": [
       "(5, 4)"
      ]
     },
     "execution_count": 65,
     "metadata": {},
     "output_type": "execute_result"
    }
   ],
   "source": [
    "arr1.shape"
   ]
  },
  {
   "cell_type": "code",
   "execution_count": 66,
   "id": "9a7150fc-1ad2-493f-a982-665690e84027",
   "metadata": {},
   "outputs": [],
   "source": [
    "k=[8,4,5,84,54,58,44,54,15,17,15,16,165,235,3565,236,2652,86,286,235,35,74,5,36,25,354]"
   ]
  },
  {
   "cell_type": "code",
   "execution_count": 67,
   "id": "42cb4f15-a014-4853-93ec-a016fb1b7496",
   "metadata": {},
   "outputs": [],
   "source": [
    "z=np.array(k)"
   ]
  },
  {
   "cell_type": "code",
   "execution_count": 68,
   "id": "62659548-7534-4e39-82eb-b9618e92fcaa",
   "metadata": {},
   "outputs": [
    {
     "data": {
      "text/plain": [
       "array([   8,    4,    5,   84,   54,   58,   44,   54,   15,   17,   15,\n",
       "         16,  165,  235, 3565,  236, 2652,   86,  286,  235,   35,   74,\n",
       "          5,   36,   25,  354])"
      ]
     },
     "execution_count": 68,
     "metadata": {},
     "output_type": "execute_result"
    }
   ],
   "source": [
    "z"
   ]
  },
  {
   "cell_type": "code",
   "execution_count": 73,
   "id": "b7f83560-c47f-43fa-b929-58ddd66e07c0",
   "metadata": {},
   "outputs": [],
   "source": [
    "y=z.reshape(1,26)"
   ]
  },
  {
   "cell_type": "code",
   "execution_count": 74,
   "id": "f0d5f875-855e-45d1-bac1-7187eb699af3",
   "metadata": {},
   "outputs": [
    {
     "data": {
      "text/plain": [
       "array([[   8,    4,    5,   84,   54,   58,   44,   54,   15,   17,   15,\n",
       "          16,  165,  235, 3565,  236, 2652,   86,  286,  235,   35,   74,\n",
       "           5,   36,   25,  354]])"
      ]
     },
     "execution_count": 74,
     "metadata": {},
     "output_type": "execute_result"
    }
   ],
   "source": [
    "y"
   ]
  },
  {
   "cell_type": "code",
   "execution_count": 76,
   "id": "3b0fb421-8861-4924-ae5d-7d9caf878f90",
   "metadata": {},
   "outputs": [
    {
     "data": {
      "text/plain": [
       "array([[   8],\n",
       "       [   4],\n",
       "       [   5],\n",
       "       [  84],\n",
       "       [  54],\n",
       "       [  58],\n",
       "       [  44],\n",
       "       [  54],\n",
       "       [  15],\n",
       "       [  17],\n",
       "       [  15],\n",
       "       [  16],\n",
       "       [ 165],\n",
       "       [ 235],\n",
       "       [3565],\n",
       "       [ 236],\n",
       "       [2652],\n",
       "       [  86],\n",
       "       [ 286],\n",
       "       [ 235],\n",
       "       [  35],\n",
       "       [  74],\n",
       "       [   5],\n",
       "       [  36],\n",
       "       [  25],\n",
       "       [ 354]])"
      ]
     },
     "execution_count": 76,
     "metadata": {},
     "output_type": "execute_result"
    }
   ],
   "source": [
    "z.reshape(26,1)"
   ]
  },
  {
   "cell_type": "code",
   "execution_count": 77,
   "id": "b71605c2-11bc-43f9-b356-a125695d01d7",
   "metadata": {},
   "outputs": [
    {
     "data": {
      "text/plain": [
       "[8,\n",
       " 4,\n",
       " 5,\n",
       " 84,\n",
       " 54,\n",
       " 58,\n",
       " 44,\n",
       " 54,\n",
       " 15,\n",
       " 17,\n",
       " 15,\n",
       " 16,\n",
       " 165,\n",
       " 235,\n",
       " 3565,\n",
       " 236,\n",
       " 2652,\n",
       " 86,\n",
       " 286,\n",
       " 235,\n",
       " 35,\n",
       " 74,\n",
       " 5,\n",
       " 36,\n",
       " 25,\n",
       " 354]"
      ]
     },
     "execution_count": 77,
     "metadata": {},
     "output_type": "execute_result"
    }
   ],
   "source": [
    "k"
   ]
  },
  {
   "cell_type": "code",
   "execution_count": 79,
   "id": "3a3792a8-a934-4ed7-92ed-06049d41aacf",
   "metadata": {},
   "outputs": [
    {
     "data": {
      "text/plain": [
       "[3,\n",
       " 4,\n",
       " 5,\n",
       " 6,\n",
       " 7,\n",
       " 8,\n",
       " 9,\n",
       " 10,\n",
       " 11,\n",
       " 12,\n",
       " 13,\n",
       " 14,\n",
       " 15,\n",
       " 16,\n",
       " 17,\n",
       " 18,\n",
       " 19,\n",
       " 20,\n",
       " 21,\n",
       " 22,\n",
       " 23,\n",
       " 24,\n",
       " 25,\n",
       " 26,\n",
       " 27,\n",
       " 28,\n",
       " 29,\n",
       " 30,\n",
       " 31,\n",
       " 32,\n",
       " 33,\n",
       " 34,\n",
       " 35,\n",
       " 36,\n",
       " 37,\n",
       " 38,\n",
       " 39,\n",
       " 40,\n",
       " 41,\n",
       " 42,\n",
       " 43,\n",
       " 44,\n",
       " 45,\n",
       " 46,\n",
       " 47,\n",
       " 48,\n",
       " 49,\n",
       " 50,\n",
       " 51,\n",
       " 52,\n",
       " 53,\n",
       " 54,\n",
       " 55,\n",
       " 56,\n",
       " 57,\n",
       " 58,\n",
       " 59,\n",
       " 60,\n",
       " 61,\n",
       " 62,\n",
       " 63,\n",
       " 64,\n",
       " 65,\n",
       " 66,\n",
       " 67,\n",
       " 68,\n",
       " 69,\n",
       " 70,\n",
       " 71,\n",
       " 72,\n",
       " 73,\n",
       " 74,\n",
       " 75,\n",
       " 76,\n",
       " 77,\n",
       " 78,\n",
       " 79,\n",
       " 80,\n",
       " 81,\n",
       " 82,\n",
       " 83,\n",
       " 84,\n",
       " 85,\n",
       " 86,\n",
       " 87,\n",
       " 88,\n",
       " 89,\n",
       " 90,\n",
       " 91,\n",
       " 92,\n",
       " 93,\n",
       " 94,\n",
       " 95,\n",
       " 96,\n",
       " 97,\n",
       " 98,\n",
       " 99]"
      ]
     },
     "execution_count": 79,
     "metadata": {},
     "output_type": "execute_result"
    }
   ],
   "source": [
    "list(range(3,100))"
   ]
  },
  {
   "cell_type": "code",
   "execution_count": 80,
   "id": "543bf8b2-6e80-4887-be0a-41d5be4c3e4d",
   "metadata": {},
   "outputs": [
    {
     "data": {
      "text/plain": [
       "[3,\n",
       " 5,\n",
       " 7,\n",
       " 9,\n",
       " 11,\n",
       " 13,\n",
       " 15,\n",
       " 17,\n",
       " 19,\n",
       " 21,\n",
       " 23,\n",
       " 25,\n",
       " 27,\n",
       " 29,\n",
       " 31,\n",
       " 33,\n",
       " 35,\n",
       " 37,\n",
       " 39,\n",
       " 41,\n",
       " 43,\n",
       " 45,\n",
       " 47,\n",
       " 49,\n",
       " 51,\n",
       " 53,\n",
       " 55,\n",
       " 57,\n",
       " 59,\n",
       " 61,\n",
       " 63,\n",
       " 65,\n",
       " 67,\n",
       " 69,\n",
       " 71,\n",
       " 73,\n",
       " 75,\n",
       " 77,\n",
       " 79,\n",
       " 81,\n",
       " 83,\n",
       " 85,\n",
       " 87,\n",
       " 89,\n",
       " 91,\n",
       " 93,\n",
       " 95,\n",
       " 97,\n",
       " 99]"
      ]
     },
     "execution_count": 80,
     "metadata": {},
     "output_type": "execute_result"
    }
   ],
   "source": [
    "list(range(3,100,2))"
   ]
  },
  {
   "cell_type": "code",
   "execution_count": 81,
   "id": "9ce3d83c-889b-410e-91df-a0fe57a00c40",
   "metadata": {},
   "outputs": [
    {
     "data": {
      "text/plain": [
       "[3, 13, 23, 33, 43, 53, 63, 73, 83, 93]"
      ]
     },
     "execution_count": 81,
     "metadata": {},
     "output_type": "execute_result"
    }
   ],
   "source": [
    "list(range(3,100,10))"
   ]
  },
  {
   "cell_type": "code",
   "execution_count": 83,
   "id": "d1fe6bf0-a3eb-493d-ad59-880f8fb9b692",
   "metadata": {},
   "outputs": [
    {
     "data": {
      "text/plain": [
       "(3,\n",
       " 4,\n",
       " 5,\n",
       " 6,\n",
       " 7,\n",
       " 8,\n",
       " 9,\n",
       " 10,\n",
       " 11,\n",
       " 12,\n",
       " 13,\n",
       " 14,\n",
       " 15,\n",
       " 16,\n",
       " 17,\n",
       " 18,\n",
       " 19,\n",
       " 20,\n",
       " 21,\n",
       " 22,\n",
       " 23,\n",
       " 24,\n",
       " 25,\n",
       " 26,\n",
       " 27,\n",
       " 28,\n",
       " 29,\n",
       " 30,\n",
       " 31,\n",
       " 32,\n",
       " 33,\n",
       " 34,\n",
       " 35,\n",
       " 36,\n",
       " 37,\n",
       " 38,\n",
       " 39,\n",
       " 40,\n",
       " 41,\n",
       " 42,\n",
       " 43,\n",
       " 44,\n",
       " 45,\n",
       " 46,\n",
       " 47,\n",
       " 48,\n",
       " 49,\n",
       " 50,\n",
       " 51,\n",
       " 52,\n",
       " 53,\n",
       " 54,\n",
       " 55,\n",
       " 56,\n",
       " 57,\n",
       " 58,\n",
       " 59,\n",
       " 60,\n",
       " 61,\n",
       " 62,\n",
       " 63,\n",
       " 64,\n",
       " 65,\n",
       " 66,\n",
       " 67,\n",
       " 68,\n",
       " 69,\n",
       " 70,\n",
       " 71,\n",
       " 72,\n",
       " 73,\n",
       " 74,\n",
       " 75,\n",
       " 76,\n",
       " 77,\n",
       " 78,\n",
       " 79,\n",
       " 80,\n",
       " 81,\n",
       " 82,\n",
       " 83,\n",
       " 84,\n",
       " 85,\n",
       " 86,\n",
       " 87,\n",
       " 88,\n",
       " 89,\n",
       " 90,\n",
       " 91,\n",
       " 92,\n",
       " 93,\n",
       " 94,\n",
       " 95,\n",
       " 96,\n",
       " 97,\n",
       " 98,\n",
       " 99)"
      ]
     },
     "execution_count": 83,
     "metadata": {},
     "output_type": "execute_result"
    }
   ],
   "source": [
    "tuple(range(3,100))"
   ]
  },
  {
   "cell_type": "code",
   "execution_count": 84,
   "id": "98c7d91f-557a-4439-8e46-4edfe2f55dff",
   "metadata": {},
   "outputs": [
    {
     "data": {
      "text/plain": [
       "(3,\n",
       " 6,\n",
       " 9,\n",
       " 12,\n",
       " 15,\n",
       " 18,\n",
       " 21,\n",
       " 24,\n",
       " 27,\n",
       " 30,\n",
       " 33,\n",
       " 36,\n",
       " 39,\n",
       " 42,\n",
       " 45,\n",
       " 48,\n",
       " 51,\n",
       " 54,\n",
       " 57,\n",
       " 60,\n",
       " 63,\n",
       " 66,\n",
       " 69,\n",
       " 72,\n",
       " 75,\n",
       " 78,\n",
       " 81,\n",
       " 84,\n",
       " 87,\n",
       " 90,\n",
       " 93,\n",
       " 96,\n",
       " 99)"
      ]
     },
     "execution_count": 84,
     "metadata": {},
     "output_type": "execute_result"
    }
   ],
   "source": [
    "tuple(range(3,100,3))"
   ]
  },
  {
   "cell_type": "code",
   "execution_count": 85,
   "id": "a4ec8468-f079-45c8-8d45-d69e5db71b62",
   "metadata": {},
   "outputs": [
    {
     "data": {
      "text/plain": [
       "(3, 13, 23, 33, 43, 53, 63, 73, 83, 93)"
      ]
     },
     "execution_count": 85,
     "metadata": {},
     "output_type": "execute_result"
    }
   ],
   "source": [
    "tuple(range(3,100,10))"
   ]
  },
  {
   "cell_type": "code",
   "execution_count": 86,
   "id": "f10083eb-8b7f-4f20-b0ab-10b7c2836cea",
   "metadata": {},
   "outputs": [
    {
     "data": {
      "text/plain": [
       "[-30,\n",
       " -29,\n",
       " -28,\n",
       " -27,\n",
       " -26,\n",
       " -25,\n",
       " -24,\n",
       " -23,\n",
       " -22,\n",
       " -21,\n",
       " -20,\n",
       " -19,\n",
       " -18,\n",
       " -17,\n",
       " -16,\n",
       " -15,\n",
       " -14,\n",
       " -13,\n",
       " -12,\n",
       " -11,\n",
       " -10,\n",
       " -9,\n",
       " -8,\n",
       " -7,\n",
       " -6,\n",
       " -5,\n",
       " -4,\n",
       " -3,\n",
       " -2,\n",
       " -1,\n",
       " 0,\n",
       " 1,\n",
       " 2,\n",
       " 3,\n",
       " 4,\n",
       " 5,\n",
       " 6,\n",
       " 7,\n",
       " 8,\n",
       " 9,\n",
       " 10,\n",
       " 11,\n",
       " 12,\n",
       " 13,\n",
       " 14,\n",
       " 15,\n",
       " 16,\n",
       " 17,\n",
       " 18,\n",
       " 19,\n",
       " 20,\n",
       " 21,\n",
       " 22,\n",
       " 23,\n",
       " 24,\n",
       " 25,\n",
       " 26,\n",
       " 27,\n",
       " 28,\n",
       " 29,\n",
       " 30,\n",
       " 31,\n",
       " 32,\n",
       " 33,\n",
       " 34,\n",
       " 35,\n",
       " 36,\n",
       " 37,\n",
       " 38,\n",
       " 39,\n",
       " 40,\n",
       " 41,\n",
       " 42,\n",
       " 43,\n",
       " 44,\n",
       " 45,\n",
       " 46,\n",
       " 47,\n",
       " 48,\n",
       " 49,\n",
       " 50,\n",
       " 51,\n",
       " 52,\n",
       " 53,\n",
       " 54,\n",
       " 55,\n",
       " 56,\n",
       " 57,\n",
       " 58,\n",
       " 59,\n",
       " 60,\n",
       " 61,\n",
       " 62,\n",
       " 63,\n",
       " 64,\n",
       " 65,\n",
       " 66,\n",
       " 67,\n",
       " 68,\n",
       " 69,\n",
       " 70,\n",
       " 71,\n",
       " 72,\n",
       " 73,\n",
       " 74,\n",
       " 75,\n",
       " 76,\n",
       " 77,\n",
       " 78,\n",
       " 79,\n",
       " 80,\n",
       " 81,\n",
       " 82,\n",
       " 83,\n",
       " 84,\n",
       " 85,\n",
       " 86,\n",
       " 87,\n",
       " 88,\n",
       " 89,\n",
       " 90,\n",
       " 91,\n",
       " 92,\n",
       " 93,\n",
       " 94,\n",
       " 95,\n",
       " 96,\n",
       " 97,\n",
       " 98,\n",
       " 99]"
      ]
     },
     "execution_count": 86,
     "metadata": {},
     "output_type": "execute_result"
    }
   ],
   "source": [
    "list(range(-30,100))"
   ]
  },
  {
   "cell_type": "code",
   "execution_count": 87,
   "id": "c1f5d502-7fbf-456f-a08a-1f4d679ed52f",
   "metadata": {},
   "outputs": [
    {
     "data": {
      "text/plain": [
       "[]"
      ]
     },
     "execution_count": 87,
     "metadata": {},
     "output_type": "execute_result"
    }
   ],
   "source": [
    "list(range(-1,-10))"
   ]
  },
  {
   "cell_type": "code",
   "execution_count": 88,
   "id": "76471718-ab43-4652-8bda-a55f8fd9da73",
   "metadata": {},
   "outputs": [
    {
     "data": {
      "text/plain": [
       "[-1, -2, -3, -4, -5, -6, -7, -8, -9]"
      ]
     },
     "execution_count": 88,
     "metadata": {},
     "output_type": "execute_result"
    }
   ],
   "source": [
    "list(range(-1,-10,-1))"
   ]
  },
  {
   "cell_type": "code",
   "execution_count": 92,
   "id": "9ea94d4e-1ea1-4892-8995-d7defa122c6e",
   "metadata": {},
   "outputs": [
    {
     "data": {
      "text/plain": [
       "array([], dtype=float64)"
      ]
     },
     "execution_count": 92,
     "metadata": {},
     "output_type": "execute_result"
    }
   ],
   "source": [
    "np.arange(-1,-10,0.5)"
   ]
  },
  {
   "cell_type": "code",
   "execution_count": 94,
   "id": "6914a667-c28d-4906-80ae-9034e558a544",
   "metadata": {},
   "outputs": [
    {
     "ename": "NameError",
     "evalue": "name 'arange' is not defined",
     "output_type": "error",
     "traceback": [
      "\u001b[1;31m---------------------------------------------------------------------------\u001b[0m",
      "\u001b[1;31mNameError\u001b[0m                                 Traceback (most recent call last)",
      "Cell \u001b[1;32mIn[94], line 1\u001b[0m\n\u001b[1;32m----> 1\u001b[0m \u001b[38;5;28mlist\u001b[39m(arange(\u001b[38;5;241m-\u001b[39m\u001b[38;5;241m1\u001b[39m,\u001b[38;5;241m-\u001b[39m\u001b[38;5;241m10\u001b[39m,\u001b[38;5;241m0.5\u001b[39m))\n",
      "\u001b[1;31mNameError\u001b[0m: name 'arange' is not defined"
     ]
    }
   ],
   "source": [
    "list(arange(-1,-10,0.5))"
   ]
  },
  {
   "cell_type": "code",
   "execution_count": 99,
   "id": "1d46b0a7-5a5a-40e1-aa57-b8caa4b1d3a3",
   "metadata": {},
   "outputs": [
    {
     "name": "stdout",
     "output_type": "stream",
     "text": [
      "data 5\n",
      "data 10\n",
      "data 15\n",
      "data 20\n",
      "data 25\n",
      "data 30\n",
      "data 35\n",
      "data 40\n",
      "data 45\n",
      "data 50\n",
      "data 55\n",
      "data 60\n",
      "data 65\n",
      "data 70\n",
      "data 75\n",
      "data 80\n",
      "data 85\n",
      "data 90\n",
      "data 95\n",
      "data 100\n",
      "data 105\n",
      "data 110\n",
      "data 115\n",
      "data 120\n",
      "data 125\n",
      "data 130\n",
      "data 135\n",
      "data 140\n",
      "data 145\n",
      "data 150\n",
      "data 155\n",
      "data 160\n",
      "data 165\n",
      "data 170\n",
      "data 175\n",
      "data 180\n",
      "data 185\n",
      "data 190\n",
      "data 195\n",
      "data 200\n",
      "data 205\n",
      "data 210\n",
      "data 215\n",
      "data 220\n",
      "data 225\n",
      "data 230\n",
      "data 235\n",
      "data 240\n",
      "data 245\n",
      "data 250\n",
      "data 255\n",
      "data 260\n",
      "data 265\n",
      "data 270\n",
      "data 275\n",
      "data 280\n",
      "data 285\n",
      "data 290\n",
      "data 295\n",
      "data 300\n",
      "data 305\n",
      "data 310\n",
      "data 315\n",
      "data 320\n",
      "data 325\n",
      "data 330\n",
      "data 335\n",
      "data 340\n",
      "data 345\n",
      "data 350\n",
      "data 355\n",
      "data 360\n",
      "data 365\n",
      "data 370\n",
      "data 375\n",
      "data 380\n",
      "data 385\n",
      "data 390\n",
      "data 395\n",
      "data 400\n",
      "data 405\n",
      "data 410\n",
      "data 415\n",
      "data 420\n",
      "data 425\n",
      "data 430\n",
      "data 435\n",
      "data 440\n",
      "data 445\n",
      "data 450\n",
      "data 455\n",
      "data 460\n",
      "data 465\n",
      "data 470\n",
      "data 475\n",
      "data 480\n",
      "data 485\n",
      "data 490\n",
      "data 495\n"
     ]
    }
   ],
   "source": [
    "for i in range(5,500,5):\n",
    "    print('data',i)"
   ]
  },
  {
   "cell_type": "code",
   "execution_count": 95,
   "id": "79470c12-63c9-435d-b9e3-5928d648e9e6",
   "metadata": {},
   "outputs": [],
   "source": [
    "j=[5,45,42,65,64,25,14,254,124,6,5,54,2,5]"
   ]
  },
  {
   "cell_type": "code",
   "execution_count": 96,
   "id": "e14a9b4d-4323-483d-8e50-e2b6cc7a75fe",
   "metadata": {},
   "outputs": [
    {
     "data": {
      "text/plain": [
       "[5, 45, 42, 65, 64, 25, 14, 254, 124, 6, 5, 54, 2, 5]"
      ]
     },
     "execution_count": 96,
     "metadata": {},
     "output_type": "execute_result"
    }
   ],
   "source": [
    "j"
   ]
  },
  {
   "cell_type": "code",
   "execution_count": 102,
   "id": "ec0a350f-386e-41e5-8cce-c21999e81083",
   "metadata": {},
   "outputs": [],
   "source": [
    "even = [] \n",
    "odd = [] \n",
    "for i in range(len(j)):\n",
    "    if i % 2 == 0: \n",
    "        even.append(j[i]) \n",
    "    else: \n",
    "        odd.append(j[i]) \n",
    "        "
   ]
  },
  {
   "cell_type": "code",
   "execution_count": 106,
   "id": "ff7d2d15-04d0-4f02-b515-fa074784be95",
   "metadata": {},
   "outputs": [
    {
     "name": "stdout",
     "output_type": "stream",
     "text": [
      "5\n",
      "45\n",
      "42\n",
      "65\n",
      "64\n",
      "25\n",
      "14\n",
      "254\n",
      "124\n",
      "6\n",
      "5\n",
      "54\n",
      "2\n",
      "5\n"
     ]
    }
   ],
   "source": [
    "for i in j:\n",
    "    print(i)"
   ]
  },
  {
   "cell_type": "code",
   "execution_count": 103,
   "id": "36031379-1825-45a9-99f5-712184251ec8",
   "metadata": {},
   "outputs": [
    {
     "data": {
      "text/plain": [
       "[5, 42, 64, 14, 124, 5, 2]"
      ]
     },
     "execution_count": 103,
     "metadata": {},
     "output_type": "execute_result"
    }
   ],
   "source": [
    "even"
   ]
  },
  {
   "cell_type": "code",
   "execution_count": 104,
   "id": "fe807d6e-6146-4817-8505-4021992e5cc9",
   "metadata": {},
   "outputs": [
    {
     "data": {
      "text/plain": [
       "[45, 65, 25, 254, 6, 54, 5]"
      ]
     },
     "execution_count": 104,
     "metadata": {},
     "output_type": "execute_result"
    }
   ],
   "source": [
    "odd"
   ]
  },
  {
   "cell_type": "code",
   "execution_count": null,
   "id": "f152c8dc-1ec7-449c-ac40-ac49d1465fc1",
   "metadata": {},
   "outputs": [],
   "source": []
  }
 ],
 "metadata": {
  "kernelspec": {
   "display_name": "Python 3 (ipykernel)",
   "language": "python",
   "name": "python3"
  },
  "language_info": {
   "codemirror_mode": {
    "name": "ipython",
    "version": 3
   },
   "file_extension": ".py",
   "mimetype": "text/x-python",
   "name": "python",
   "nbconvert_exporter": "python",
   "pygments_lexer": "ipython3",
   "version": "3.12.4"
  }
 },
 "nbformat": 4,
 "nbformat_minor": 5
}
