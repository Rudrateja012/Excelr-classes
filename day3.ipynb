{
  "cells": [
    {
      "cell_type": "markdown",
      "metadata": {
        "id": "view-in-github",
        "colab_type": "text"
      },
      "source": [
        "<a href=\"https://colab.research.google.com/github/Rudrateja012/basic/blob/main/day3.ipynb\" target=\"_parent\"><img src=\"https://colab.research.google.com/assets/colab-badge.svg\" alt=\"Open In Colab\"/></a>"
      ]
    },
    {
      "cell_type": "raw",
      "id": "c08b96fb-8c6b-423d-90ca-f502b98e33b7",
      "metadata": {
        "id": "c08b96fb-8c6b-423d-90ca-f502b98e33b7"
      },
      "source": [
        "if condition1:\n",
        "    task1 black code\n",
        "elif condition2:\n",
        "    task2 black code\n",
        "elif condition3:\n",
        "    task3 black code\n",
        "    .\n",
        "    .\n",
        "    .\n",
        "    .\n",
        "elif condition n:\n",
        "    task n black code\n",
        "else:\n",
        "    task4 black code"
      ]
    },
    {
      "cell_type": "code",
      "execution_count": null,
      "id": "16ac2d92-223a-4967-8a25-dadb3a4269ce",
      "metadata": {
        "id": "16ac2d92-223a-4967-8a25-dadb3a4269ce",
        "outputId": "d45414e3-f6ac-43ee-a0e0-0b30fec41e11"
      },
      "outputs": [
        {
          "name": "stdout",
          "output_type": "stream",
          "text": [
            "Odd\n"
          ]
        }
      ],
      "source": [
        "x= 9\n",
        "if x%2==0:\n",
        "    print(\"Even\")\n",
        "else:\n",
        "    print(\"Odd\")"
      ]
    },
    {
      "cell_type": "code",
      "execution_count": null,
      "id": "ee3cf88b-dea1-4978-bbe4-04711954b3a1",
      "metadata": {
        "id": "ee3cf88b-dea1-4978-bbe4-04711954b3a1",
        "outputId": "61963e62-01fe-4e7b-cc57-14e5eeff86fb"
      },
      "outputs": [
        {
          "data": {
            "text/plain": [
              "False"
            ]
          },
          "execution_count": 3,
          "metadata": {},
          "output_type": "execute_result"
        }
      ],
      "source": [
        "x%2==0"
      ]
    },
    {
      "cell_type": "code",
      "execution_count": null,
      "id": "5a5195e7-41be-4cd9-8988-5ab304fd6f8f",
      "metadata": {
        "id": "5a5195e7-41be-4cd9-8988-5ab304fd6f8f"
      },
      "outputs": [],
      "source": [
        "x=8"
      ]
    },
    {
      "cell_type": "code",
      "execution_count": null,
      "id": "ce8ecbea-8ed9-46cc-8818-ef777e4e8e4c",
      "metadata": {
        "id": "ce8ecbea-8ed9-46cc-8818-ef777e4e8e4c",
        "outputId": "8a78ac2d-f9e0-49ee-890e-f77d8aaab944"
      },
      "outputs": [
        {
          "data": {
            "text/plain": [
              "True"
            ]
          },
          "execution_count": 7,
          "metadata": {},
          "output_type": "execute_result"
        }
      ],
      "source": [
        "x%2==0"
      ]
    },
    {
      "cell_type": "raw",
      "id": "ba83b060-0803-4925-8352-b13b6b72f362",
      "metadata": {
        "id": "ba83b060-0803-4925-8352-b13b6b72f362"
      },
      "source": [
        "wap to know number is positive nagative or zero"
      ]
    },
    {
      "cell_type": "code",
      "execution_count": null,
      "id": "c46c5bfe-540a-4a5b-82c1-0bfb31cd7867",
      "metadata": {
        "id": "c46c5bfe-540a-4a5b-82c1-0bfb31cd7867",
        "outputId": "514f1a8f-f750-4f4c-eaab-b6b220725834"
      },
      "outputs": [
        {
          "name": "stdout",
          "output_type": "stream",
          "text": [
            "Even\n"
          ]
        }
      ],
      "source": [
        "x= 5565\n",
        "if x+6:\n",
        "    print(\"Even\")\n",
        "else:\n",
        "    print(\"Odd\")"
      ]
    },
    {
      "cell_type": "code",
      "execution_count": null,
      "id": "b86154ce-2ac0-4209-b7e3-9d8c56abe936",
      "metadata": {
        "id": "b86154ce-2ac0-4209-b7e3-9d8c56abe936",
        "outputId": "ce2f6b5e-b872-466a-c43b-60b71f1a2537"
      },
      "outputs": [
        {
          "name": "stdout",
          "output_type": "stream",
          "text": [
            "Odd\n"
          ]
        }
      ],
      "source": [
        "x= -6 #only-6 we get odd\n",
        "if x+6:\n",
        "    print(\"Even\")\n",
        "else:\n",
        "    print(\"Odd\")"
      ]
    },
    {
      "cell_type": "code",
      "execution_count": null,
      "id": "13f5d4db-1d70-40cf-83b3-d6b41310c059",
      "metadata": {
        "id": "13f5d4db-1d70-40cf-83b3-d6b41310c059",
        "outputId": "65938643-4fff-4a97-852e-70f423fc5730"
      },
      "outputs": [
        {
          "name": "stdout",
          "output_type": "stream",
          "text": [
            "pos\n"
          ]
        }
      ],
      "source": [
        "x=6\n",
        "if x>0:\n",
        "    print('pos')\n",
        "elif x<0:\n",
        "    print('neg')\n",
        "else:\n",
        "    print('zero')"
      ]
    },
    {
      "cell_type": "code",
      "execution_count": null,
      "id": "3ca23a21-9e3d-4c98-a92f-067e0b835e8c",
      "metadata": {
        "id": "3ca23a21-9e3d-4c98-a92f-067e0b835e8c",
        "outputId": "c5e2cedf-f78a-40cc-ea24-23040f667489"
      },
      "outputs": [
        {
          "name": "stdout",
          "output_type": "stream",
          "text": [
            "pos\n",
            "n\n"
          ]
        }
      ],
      "source": [
        "x=6\n",
        "if x>0:\n",
        "    print('pos')\n",
        "    if x>10:\n",
        "        print('p')\n",
        "    elif x<10:\n",
        "        print('n')\n",
        "    else:\n",
        "        print('z')\n",
        "elif x<0:\n",
        "    print('neg')\n",
        "else:\n",
        "    print('zero')"
      ]
    },
    {
      "cell_type": "code",
      "execution_count": null,
      "id": "d471fc11-91c2-46e8-9abf-40218b2f11d7",
      "metadata": {
        "id": "d471fc11-91c2-46e8-9abf-40218b2f11d7",
        "outputId": "d8e44573-25ab-4bfb-ad7c-db7f16e99abd"
      },
      "outputs": [
        {
          "name": "stdout",
          "output_type": "stream",
          "text": [
            "pos\n",
            "z\n"
          ]
        }
      ],
      "source": [
        "x=10\n",
        "if x>0:\n",
        "    print('pos')\n",
        "    if x>10:\n",
        "        print('p')\n",
        "    elif x<10:\n",
        "        print('n')\n",
        "    else:\n",
        "        print('z')\n",
        "elif x<0:\n",
        "    print('neg')\n",
        "    if x>-10:\n",
        "        print('p')\n",
        "    elif x<-10:\n",
        "        print('n')\n",
        "    else:\n",
        "        print('z')\n",
        "else:\n",
        "    print('zero')"
      ]
    },
    {
      "cell_type": "code",
      "execution_count": null,
      "id": "fa2de836-e555-4acb-9c75-bce2e8b0d526",
      "metadata": {
        "id": "fa2de836-e555-4acb-9c75-bce2e8b0d526",
        "outputId": "cfe9b7ca-0ce8-4b34-9356-636c5f737f7b"
      },
      "outputs": [
        {
          "name": "stdout",
          "output_type": "stream",
          "text": [
            "neg\n",
            "p\n"
          ]
        }
      ],
      "source": [
        "x=-6\n",
        "if x>0:\n",
        "    print('pos')\n",
        "    if x>10:\n",
        "        print('p')\n",
        "    elif x<10:\n",
        "        print('n')\n",
        "\n",
        "elif x<0:\n",
        "    print('neg')\n",
        "    if x>-10:\n",
        "        print('p')\n",
        "    elif x<-10:\n",
        "        print('n')\n",
        "\n",
        "else:\n",
        "    print('zero')"
      ]
    },
    {
      "cell_type": "code",
      "execution_count": null,
      "id": "07ce5f18-1a0e-426a-86bf-c001c7281be0",
      "metadata": {
        "id": "07ce5f18-1a0e-426a-86bf-c001c7281be0",
        "outputId": "e2e6d4c2-ba7f-4693-ce0e-511c4bdb4bc2"
      },
      "outputs": [
        {
          "name": "stdout",
          "output_type": "stream",
          "text": [
            "neg\n",
            "n\n"
          ]
        }
      ],
      "source": [
        "x=-25\n",
        "if x>0:\n",
        "    print('pos')\n",
        "    if x>10:\n",
        "        print('p')\n",
        "    elif x<10:\n",
        "        print('n')\n",
        "\n",
        "elif x<0:\n",
        "    print('neg')\n",
        "    if x>-10:\n",
        "        print('p')\n",
        "    elif x<-10:\n",
        "        print('n')\n",
        "\n",
        "else:\n",
        "    print('zero')"
      ]
    },
    {
      "cell_type": "code",
      "execution_count": null,
      "id": "84203a0e-b749-48c8-913d-fd333a320571",
      "metadata": {
        "id": "84203a0e-b749-48c8-913d-fd333a320571",
        "outputId": "8aeb6ebc-504d-4493-8540-f2bc9bdb8d93"
      },
      "outputs": [
        {
          "name": "stdout",
          "output_type": "stream",
          "text": [
            "pos\n",
            "p\n"
          ]
        }
      ],
      "source": [
        "\n",
        "x=25\n",
        "if x>0:\n",
        "    print('pos')\n",
        "    if x>10:\n",
        "        print('p')\n",
        "    elif x<10:\n",
        "        print('n')\n",
        "\n",
        "elif x<0:\n",
        "    print('neg')\n",
        "    if x>-10:\n",
        "        print('p')\n",
        "    elif x<-10:\n",
        "        print('n')\n",
        "\n",
        "else:\n",
        "    print('zero')"
      ]
    },
    {
      "cell_type": "code",
      "execution_count": null,
      "id": "33864aa9-8ec4-4f88-9cf6-d01c6ce5a9d9",
      "metadata": {
        "id": "33864aa9-8ec4-4f88-9cf6-d01c6ce5a9d9",
        "outputId": "a2100373-210f-4483-a185-2fe67c74c6de"
      },
      "outputs": [
        {
          "name": "stdout",
          "output_type": "stream",
          "text": [
            "zero\n"
          ]
        }
      ],
      "source": [
        "x=0\n",
        "if x>0:\n",
        "    print('pos')\n",
        "    if x>10:\n",
        "        print('p')\n",
        "    elif x<10:\n",
        "        print('n')\n",
        "\n",
        "elif x<0:\n",
        "    print('neg')\n",
        "    if x>-10:\n",
        "        print('p')\n",
        "    elif x<-10:\n",
        "        print('n')\n",
        "\n",
        "else:\n",
        "    print('zero')"
      ]
    },
    {
      "cell_type": "code",
      "execution_count": null,
      "id": "41b0a78b-7897-4a91-a32b-2b48b23b74d8",
      "metadata": {
        "id": "41b0a78b-7897-4a91-a32b-2b48b23b74d8",
        "outputId": "4d8fe8c4-7dc0-4ba5-b7bc-09e1ad2979a7"
      },
      "outputs": [
        {
          "name": "stdin",
          "output_type": "stream",
          "text": [
            " Tiger\n"
          ]
        },
        {
          "name": "stdout",
          "output_type": "stream",
          "text": [
            "yes\n"
          ]
        }
      ],
      "source": [
        "x=str(input())\n",
        "if x[0]=='T' or x[0]=='t' :\n",
        "    print('yes')\n",
        "else:\n",
        "    print('no')\n"
      ]
    },
    {
      "cell_type": "code",
      "execution_count": null,
      "id": "839e07e0-64d8-446a-bb1e-1da25d1931de",
      "metadata": {
        "id": "839e07e0-64d8-446a-bb1e-1da25d1931de",
        "outputId": "e24070a1-8acc-45f8-8890-bee11dcaadb4"
      },
      "outputs": [
        {
          "name": "stdin",
          "output_type": "stream",
          "text": [
            " super\n"
          ]
        },
        {
          "name": "stdout",
          "output_type": "stream",
          "text": [
            "yes\n"
          ]
        }
      ],
      "source": [
        "x=str(input())\n",
        "if (x[0]=='T'or'S'or'M')or (x[0]=='t'or's'or'm') :\n",
        "    print('yes')\n",
        "else:\n",
        "    print('no')\n",
        "\n"
      ]
    },
    {
      "cell_type": "code",
      "execution_count": null,
      "id": "aaf1cbac-5213-4bbc-8e57-5b444467b332",
      "metadata": {
        "id": "aaf1cbac-5213-4bbc-8e57-5b444467b332",
        "outputId": "3b49fc0b-d37d-4afb-b88f-dda7ac0a0cb1"
      },
      "outputs": [
        {
          "name": "stdin",
          "output_type": "stream",
          "text": [
            " tiger\n"
          ]
        },
        {
          "name": "stdout",
          "output_type": "stream",
          "text": [
            "yes\n"
          ]
        }
      ],
      "source": [
        "x=str(input())\n",
        "if x[0].lower()=='t'or'T' :\n",
        "    print('yes')\n",
        "else:\n",
        "    print('no')\n"
      ]
    },
    {
      "cell_type": "code",
      "execution_count": null,
      "id": "95d1993a-4d1c-462b-a9c7-5aced1d571a4",
      "metadata": {
        "id": "95d1993a-4d1c-462b-a9c7-5aced1d571a4",
        "outputId": "94ef4740-57e7-4db5-efa7-3d30d428240d"
      },
      "outputs": [
        {
          "name": "stdin",
          "output_type": "stream",
          "text": [
            " Tree\n"
          ]
        },
        {
          "name": "stdout",
          "output_type": "stream",
          "text": [
            "yes\n"
          ]
        }
      ],
      "source": [
        "x=str(input())\n",
        "if x[0].lower()=='t'or'T' :\n",
        "    print('yes')\n",
        "else:\n",
        "    print('no')\n"
      ]
    },
    {
      "cell_type": "code",
      "execution_count": null,
      "id": "ae959555-247c-4e18-8f63-bea781255480",
      "metadata": {
        "id": "ae959555-247c-4e18-8f63-bea781255480",
        "outputId": "1926fbba-d452-4532-a127-475158201bd7"
      },
      "outputs": [
        {
          "name": "stdin",
          "output_type": "stream",
          "text": [
            " mouse\n"
          ]
        },
        {
          "name": "stdout",
          "output_type": "stream",
          "text": [
            "yes\n"
          ]
        }
      ],
      "source": [
        "x=str(input())\n",
        "if x[0].lower() in ('t','s','m') :\n",
        "    print('yes')\n",
        "else:\n",
        "    print('no')\n"
      ]
    },
    {
      "cell_type": "code",
      "execution_count": null,
      "id": "38bb0404-d665-4383-90e4-1bbd4a102855",
      "metadata": {
        "id": "38bb0404-d665-4383-90e4-1bbd4a102855",
        "outputId": "da7e3d1c-a969-4ca5-93f4-3b04a50269be"
      },
      "outputs": [
        {
          "name": "stdin",
          "output_type": "stream",
          "text": [
            " home\n"
          ]
        },
        {
          "name": "stdout",
          "output_type": "stream",
          "text": [
            "no\n"
          ]
        }
      ],
      "source": [
        "x=str(input())\n",
        "if x[0].lower() in ('t','s','m') :\n",
        "    print('yes')\n",
        "else:\n",
        "    print('no')\n"
      ]
    },
    {
      "cell_type": "code",
      "execution_count": null,
      "id": "6d810b65-fcba-44e3-a89b-e4e1e616e97f",
      "metadata": {
        "id": "6d810b65-fcba-44e3-a89b-e4e1e616e97f"
      },
      "outputs": [],
      "source": []
    }
  ],
  "metadata": {
    "kernelspec": {
      "display_name": "Python [conda env:base] *",
      "language": "python",
      "name": "conda-base-py"
    },
    "language_info": {
      "codemirror_mode": {
        "name": "ipython",
        "version": 3
      },
      "file_extension": ".py",
      "mimetype": "text/x-python",
      "name": "python",
      "nbconvert_exporter": "python",
      "pygments_lexer": "ipython3",
      "version": "3.12.7"
    },
    "colab": {
      "provenance": [],
      "include_colab_link": true
    }
  },
  "nbformat": 4,
  "nbformat_minor": 5
}